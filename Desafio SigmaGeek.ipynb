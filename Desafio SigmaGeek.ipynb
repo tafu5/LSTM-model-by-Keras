{
 "cells": [
  {
   "cell_type": "markdown",
   "id": "bd13af55",
   "metadata": {},
   "source": [
    "# Recurrent Neuronal Network (LSTM)"
   ]
  },
  {
   "cell_type": "markdown",
   "id": "8a0443bf",
   "metadata": {},
   "source": [
    "The objective of this job is to predict the answer number 100 for 20.000 students\n",
    "\n",
    "The model used is a <b> RNN (LSTM) </b>"
   ]
  },
  {
   "cell_type": "code",
   "execution_count": 1,
   "id": "a598e2eb",
   "metadata": {},
   "outputs": [],
   "source": [
    "import pandas as pd\n",
    "import numpy as np\n",
    "\n",
    "import warnings\n",
    "warnings.filterwarnings(\"ignore\")\n",
    "\n",
    "data = pd.read_csv(\"/Users/user/Desktop/Data Scientis R Python SQL/Desafios/SigmaGeek/Dataset_model.csv\")"
   ]
  },
  {
   "cell_type": "code",
   "execution_count": 2,
   "id": "7f1f7e89",
   "metadata": {},
   "outputs": [
    {
     "data": {
      "text/html": [
       "<div>\n",
       "<style scoped>\n",
       "    .dataframe tbody tr th:only-of-type {\n",
       "        vertical-align: middle;\n",
       "    }\n",
       "\n",
       "    .dataframe tbody tr th {\n",
       "        vertical-align: top;\n",
       "    }\n",
       "\n",
       "    .dataframe thead th {\n",
       "        text-align: right;\n",
       "    }\n",
       "</style>\n",
       "<table border=\"1\" class=\"dataframe\">\n",
       "  <thead>\n",
       "    <tr style=\"text-align: right;\">\n",
       "      <th></th>\n",
       "      <th>novo_user_id</th>\n",
       "      <th>city</th>\n",
       "      <th>country</th>\n",
       "      <th>device</th>\n",
       "      <th>device_type</th>\n",
       "      <th>os</th>\n",
       "      <th>platform</th>\n",
       "      <th>region</th>\n",
       "      <th>gp:carrers</th>\n",
       "      <th>gp:college type</th>\n",
       "      <th>...</th>\n",
       "      <th>institute_id</th>\n",
       "      <th>knowledge_area_id</th>\n",
       "      <th>modality_id</th>\n",
       "      <th>nullified</th>\n",
       "      <th>outdated</th>\n",
       "      <th>product_id</th>\n",
       "      <th>publication_year</th>\n",
       "      <th>right_answer</th>\n",
       "      <th>scholarity_id</th>\n",
       "      <th>novo_question_id</th>\n",
       "    </tr>\n",
       "  </thead>\n",
       "  <tbody>\n",
       "    <tr>\n",
       "      <th>0</th>\n",
       "      <td>1</td>\n",
       "      <td>Rio de Janeiro</td>\n",
       "      <td>Brazil</td>\n",
       "      <td>Apple iPhone</td>\n",
       "      <td>Apple iPhone 11 Pro Max</td>\n",
       "      <td>ios 15.4.1</td>\n",
       "      <td>iOS</td>\n",
       "      <td>Rio de Janeiro</td>\n",
       "      <td>Tribunal, Administrativa</td>\n",
       "      <td>NaN</td>\n",
       "      <td>...</td>\n",
       "      <td>4126.0</td>\n",
       "      <td>13.0</td>\n",
       "      <td>1.0</td>\n",
       "      <td>0.0</td>\n",
       "      <td>0.0</td>\n",
       "      <td>1.0</td>\n",
       "      <td>2022.0</td>\n",
       "      <td>A</td>\n",
       "      <td>2.0</td>\n",
       "      <td>489400</td>\n",
       "    </tr>\n",
       "    <tr>\n",
       "      <th>1</th>\n",
       "      <td>1</td>\n",
       "      <td>Rio de Janeiro</td>\n",
       "      <td>Brazil</td>\n",
       "      <td>Apple iPhone</td>\n",
       "      <td>Apple iPhone 11 Pro Max</td>\n",
       "      <td>ios 15.4.1</td>\n",
       "      <td>iOS</td>\n",
       "      <td>Rio de Janeiro</td>\n",
       "      <td>Tribunal, Administrativa</td>\n",
       "      <td>NaN</td>\n",
       "      <td>...</td>\n",
       "      <td>4126.0</td>\n",
       "      <td>13.0</td>\n",
       "      <td>1.0</td>\n",
       "      <td>0.0</td>\n",
       "      <td>0.0</td>\n",
       "      <td>1.0</td>\n",
       "      <td>2022.0</td>\n",
       "      <td>C</td>\n",
       "      <td>2.0</td>\n",
       "      <td>489399</td>\n",
       "    </tr>\n",
       "    <tr>\n",
       "      <th>2</th>\n",
       "      <td>1</td>\n",
       "      <td>Rio de Janeiro</td>\n",
       "      <td>Brazil</td>\n",
       "      <td>Apple iPhone</td>\n",
       "      <td>Apple iPhone 11 Pro Max</td>\n",
       "      <td>ios 15.4.1</td>\n",
       "      <td>iOS</td>\n",
       "      <td>Rio de Janeiro</td>\n",
       "      <td>Tribunal, Administrativa</td>\n",
       "      <td>NaN</td>\n",
       "      <td>...</td>\n",
       "      <td>4126.0</td>\n",
       "      <td>13.0</td>\n",
       "      <td>1.0</td>\n",
       "      <td>0.0</td>\n",
       "      <td>0.0</td>\n",
       "      <td>1.0</td>\n",
       "      <td>2022.0</td>\n",
       "      <td>D</td>\n",
       "      <td>2.0</td>\n",
       "      <td>489398</td>\n",
       "    </tr>\n",
       "    <tr>\n",
       "      <th>3</th>\n",
       "      <td>1</td>\n",
       "      <td>Rio de Janeiro</td>\n",
       "      <td>Brazil</td>\n",
       "      <td>Apple iPhone</td>\n",
       "      <td>Apple iPhone 11 Pro Max</td>\n",
       "      <td>ios 15.4.1</td>\n",
       "      <td>iOS</td>\n",
       "      <td>Rio de Janeiro</td>\n",
       "      <td>Tribunal, Administrativa</td>\n",
       "      <td>NaN</td>\n",
       "      <td>...</td>\n",
       "      <td>4126.0</td>\n",
       "      <td>13.0</td>\n",
       "      <td>1.0</td>\n",
       "      <td>0.0</td>\n",
       "      <td>0.0</td>\n",
       "      <td>1.0</td>\n",
       "      <td>2022.0</td>\n",
       "      <td>A</td>\n",
       "      <td>2.0</td>\n",
       "      <td>489397</td>\n",
       "    </tr>\n",
       "    <tr>\n",
       "      <th>4</th>\n",
       "      <td>1</td>\n",
       "      <td>Rio de Janeiro</td>\n",
       "      <td>Brazil</td>\n",
       "      <td>Apple iPhone</td>\n",
       "      <td>Apple iPhone 11 Pro Max</td>\n",
       "      <td>ios 15.4.1</td>\n",
       "      <td>iOS</td>\n",
       "      <td>Rio de Janeiro</td>\n",
       "      <td>Tribunal, Administrativa</td>\n",
       "      <td>NaN</td>\n",
       "      <td>...</td>\n",
       "      <td>4126.0</td>\n",
       "      <td>13.0</td>\n",
       "      <td>1.0</td>\n",
       "      <td>0.0</td>\n",
       "      <td>0.0</td>\n",
       "      <td>1.0</td>\n",
       "      <td>2022.0</td>\n",
       "      <td>E</td>\n",
       "      <td>2.0</td>\n",
       "      <td>489396</td>\n",
       "    </tr>\n",
       "  </tbody>\n",
       "</table>\n",
       "<p>5 rows × 32 columns</p>\n",
       "</div>"
      ],
      "text/plain": [
       "   novo_user_id            city country        device  \\\n",
       "0             1  Rio de Janeiro  Brazil  Apple iPhone   \n",
       "1             1  Rio de Janeiro  Brazil  Apple iPhone   \n",
       "2             1  Rio de Janeiro  Brazil  Apple iPhone   \n",
       "3             1  Rio de Janeiro  Brazil  Apple iPhone   \n",
       "4             1  Rio de Janeiro  Brazil  Apple iPhone   \n",
       "\n",
       "               device_type          os platform          region  \\\n",
       "0  Apple iPhone 11 Pro Max  ios 15.4.1      iOS  Rio de Janeiro   \n",
       "1  Apple iPhone 11 Pro Max  ios 15.4.1      iOS  Rio de Janeiro   \n",
       "2  Apple iPhone 11 Pro Max  ios 15.4.1      iOS  Rio de Janeiro   \n",
       "3  Apple iPhone 11 Pro Max  ios 15.4.1      iOS  Rio de Janeiro   \n",
       "4  Apple iPhone 11 Pro Max  ios 15.4.1      iOS  Rio de Janeiro   \n",
       "\n",
       "                 gp:carrers gp:college type  ... institute_id  \\\n",
       "0  Tribunal, Administrativa             NaN  ...       4126.0   \n",
       "1  Tribunal, Administrativa             NaN  ...       4126.0   \n",
       "2  Tribunal, Administrativa             NaN  ...       4126.0   \n",
       "3  Tribunal, Administrativa             NaN  ...       4126.0   \n",
       "4  Tribunal, Administrativa             NaN  ...       4126.0   \n",
       "\n",
       "  knowledge_area_id modality_id nullified outdated  product_id  \\\n",
       "0              13.0         1.0       0.0      0.0         1.0   \n",
       "1              13.0         1.0       0.0      0.0         1.0   \n",
       "2              13.0         1.0       0.0      0.0         1.0   \n",
       "3              13.0         1.0       0.0      0.0         1.0   \n",
       "4              13.0         1.0       0.0      0.0         1.0   \n",
       "\n",
       "  publication_year  right_answer  scholarity_id  novo_question_id  \n",
       "0           2022.0             A            2.0            489400  \n",
       "1           2022.0             C            2.0            489399  \n",
       "2           2022.0             D            2.0            489398  \n",
       "3           2022.0             A            2.0            489397  \n",
       "4           2022.0             E            2.0            489396  \n",
       "\n",
       "[5 rows x 32 columns]"
      ]
     },
     "execution_count": 2,
     "metadata": {},
     "output_type": "execute_result"
    }
   ],
   "source": [
    "data.head()"
   ]
  },
  {
   "cell_type": "code",
   "execution_count": 3,
   "id": "fa83daf3",
   "metadata": {},
   "outputs": [
    {
     "name": "stdout",
     "output_type": "stream",
     "text": [
      "The dataset contains 32 columns and 2000000 samples. This is 100 questions for 20000 students\n"
     ]
    }
   ],
   "source": [
    "print(f'The dataset contains {data.shape[1]} columns and {data.shape[0]} samples. This is {data.row.nunique()} questions for {data.novo_user_id.nunique()} students' )"
   ]
  },
  {
   "cell_type": "code",
   "execution_count": 4,
   "id": "61ae451d",
   "metadata": {},
   "outputs": [
    {
     "data": {
      "text/plain": [
       "novo_user_id                int64\n",
       "city                       object\n",
       "country                    object\n",
       "device                     object\n",
       "device_type                object\n",
       "os                         object\n",
       "platform                   object\n",
       "region                     object\n",
       "gp:carrers                 object\n",
       "gp:college type            object\n",
       "gp:degree course           object\n",
       "gp:previous experience     object\n",
       "gp:school type             object\n",
       "gp:segment                 object\n",
       "gp:source_project          object\n",
       "acertou                     int64\n",
       "created_at                 object\n",
       "row                         int64\n",
       "commented_by_professor    float64\n",
       "difficulty                float64\n",
       "discipline_id             float64\n",
       "examining_board_id        float64\n",
       "institute_id              float64\n",
       "knowledge_area_id         float64\n",
       "modality_id               float64\n",
       "nullified                 float64\n",
       "outdated                  float64\n",
       "product_id                float64\n",
       "publication_year          float64\n",
       "right_answer               object\n",
       "scholarity_id             float64\n",
       "novo_question_id            int64\n",
       "dtype: object"
      ]
     },
     "execution_count": 4,
     "metadata": {},
     "output_type": "execute_result"
    }
   ],
   "source": [
    "data.dtypes"
   ]
  },
  {
   "cell_type": "code",
   "execution_count": 5,
   "id": "1ed1973f",
   "metadata": {},
   "outputs": [
    {
     "data": {
      "text/plain": [
       "novo_user_id                    0\n",
       "city                       142400\n",
       "country                     13200\n",
       "device                      71600\n",
       "device_type                163200\n",
       "os                          13200\n",
       "platform                    13200\n",
       "region                      13700\n",
       "gp:carrers                 116900\n",
       "gp:college type           1997500\n",
       "gp:degree course          1997500\n",
       "gp:previous experience    1052200\n",
       "gp:school type            1997500\n",
       "gp:segment                  35200\n",
       "gp:source_project           38000\n",
       "acertou                         0\n",
       "created_at                      0\n",
       "row                             0\n",
       "commented_by_professor        178\n",
       "difficulty                   2629\n",
       "discipline_id                 178\n",
       "examining_board_id            182\n",
       "institute_id                  182\n",
       "knowledge_area_id             178\n",
       "modality_id                   178\n",
       "nullified                     178\n",
       "outdated                      178\n",
       "product_id                    178\n",
       "publication_year              187\n",
       "right_answer                  178\n",
       "scholarity_id                 178\n",
       "novo_question_id                0\n",
       "dtype: int64"
      ]
     },
     "execution_count": 5,
     "metadata": {},
     "output_type": "execute_result"
    }
   ],
   "source": [
    "data.isna().sum()"
   ]
  },
  {
   "cell_type": "markdown",
   "id": "6d3ef70b",
   "metadata": {},
   "source": [
    "There are multiple unique values in most of the columns, so will be hard to use one hot encoding to work with them:"
   ]
  },
  {
   "cell_type": "code",
   "execution_count": 6,
   "id": "394ce789",
   "metadata": {},
   "outputs": [
    {
     "data": {
      "text/plain": [
       "novo_user_id                20000\n",
       "city                         1799\n",
       "country                        18\n",
       "device                        217\n",
       "device_type                   394\n",
       "os                            231\n",
       "platform                        3\n",
       "region                         50\n",
       "gp:carrers                   1451\n",
       "gp:college type                 2\n",
       "gp:degree course               16\n",
       "gp:previous experience          4\n",
       "gp:school type                  6\n",
       "gp:segment                      4\n",
       "gp:source_project               2\n",
       "acertou                         2\n",
       "created_at                1956537\n",
       "row                           100\n",
       "commented_by_professor          2\n",
       "difficulty                      5\n",
       "discipline_id                 225\n",
       "examining_board_id            580\n",
       "institute_id                 3099\n",
       "knowledge_area_id              94\n",
       "modality_id                     2\n",
       "nullified                       2\n",
       "outdated                        2\n",
       "product_id                      5\n",
       "publication_year               23\n",
       "right_answer                    8\n",
       "scholarity_id                   3\n",
       "novo_question_id           498263\n",
       "dtype: int64"
      ]
     },
     "execution_count": 6,
     "metadata": {},
     "output_type": "execute_result"
    }
   ],
   "source": [
    "data.nunique()"
   ]
  },
  {
   "cell_type": "markdown",
   "id": "69530c42",
   "metadata": {},
   "source": [
    "The dataset \"subjets_questions\" contains the subject id for each question. Each question could have multiples subjects. This information will be added to the main dataset.\n",
    "\n"
   ]
  },
  {
   "cell_type": "code",
   "execution_count": 7,
   "id": "99db9bae",
   "metadata": {},
   "outputs": [
    {
     "data": {
      "text/html": [
       "<div>\n",
       "<style scoped>\n",
       "    .dataframe tbody tr th:only-of-type {\n",
       "        vertical-align: middle;\n",
       "    }\n",
       "\n",
       "    .dataframe tbody tr th {\n",
       "        vertical-align: top;\n",
       "    }\n",
       "\n",
       "    .dataframe thead th {\n",
       "        text-align: right;\n",
       "    }\n",
       "</style>\n",
       "<table border=\"1\" class=\"dataframe\">\n",
       "  <thead>\n",
       "    <tr style=\"text-align: right;\">\n",
       "      <th></th>\n",
       "      <th>subject_id</th>\n",
       "      <th>novo_question_id</th>\n",
       "    </tr>\n",
       "  </thead>\n",
       "  <tbody>\n",
       "    <tr>\n",
       "      <th>0</th>\n",
       "      <td>14655.0</td>\n",
       "      <td>15</td>\n",
       "    </tr>\n",
       "    <tr>\n",
       "      <th>1</th>\n",
       "      <td>19271.0</td>\n",
       "      <td>15</td>\n",
       "    </tr>\n",
       "    <tr>\n",
       "      <th>2</th>\n",
       "      <td>14655.0</td>\n",
       "      <td>16</td>\n",
       "    </tr>\n",
       "    <tr>\n",
       "      <th>3</th>\n",
       "      <td>19271.0</td>\n",
       "      <td>16</td>\n",
       "    </tr>\n",
       "    <tr>\n",
       "      <th>4</th>\n",
       "      <td>14655.0</td>\n",
       "      <td>17</td>\n",
       "    </tr>\n",
       "  </tbody>\n",
       "</table>\n",
       "</div>"
      ],
      "text/plain": [
       "   subject_id  novo_question_id\n",
       "0     14655.0                15\n",
       "1     19271.0                15\n",
       "2     14655.0                16\n",
       "3     19271.0                16\n",
       "4     14655.0                17"
      ]
     },
     "execution_count": 7,
     "metadata": {},
     "output_type": "execute_result"
    }
   ],
   "source": [
    "subjets_questions = pd.read_csv(\"/Users/user/Desktop/Data Scientis R Python SQL/Desafios/SigmaGeek/subjects_questions.csv\")\n",
    "subjets_questions.head()\n"
   ]
  },
  {
   "cell_type": "code",
   "execution_count": 8,
   "id": "f7708e0b-4f6d-41f6-bf92-9699059e2e55",
   "metadata": {},
   "outputs": [],
   "source": [
    "#Delete the null samples\n",
    "subjets_questions = subjets_questions[~subjets_questions.subject_id.isnull()]\n",
    "\n",
    "#Delete created_at column\n",
    "data = data.drop(['created_at','row'], axis = 1)\n",
    "\n",
    "#Save the unique subject id values into \"subject_id\" array\n",
    "subject_id = subjets_questions.subject_id.unique()\n",
    "\n",
    "#\"rates\" array will contain the pass rate for each subject id\n",
    "rates = []\n",
    "\n",
    "for i in subject_id:\n",
    "    \n",
    "    question_id = subjets_questions.novo_question_id[subjets_questions.subject_id == i]\n",
    "\n",
    "    acertou = data.acertou.values\n",
    "\n",
    "    right = acertou[data.novo_question_id.isin(question_id)]\n",
    "    \n",
    "    rates.append( [right.sum()/len(right),i,len(right)])\n",
    "\n",
    "rates = pd.DataFrame(rates,columns = ['rate','subject_id','number_cases'])\n",
    "    \n",
    "#Join the pass rates and \"subjets_questions\" dataset  into an dataframe called \"subjets_questions_rates\"\n",
    "subjets_questions_rates = subjets_questions.merge(rates, how = 'left', on = 'subject_id')\n",
    "subjets_questions_rates = subjets_questions_rates[subjets_questions_rates.number_cases != 0]\n",
    "\n",
    "\n",
    "###define a weighted sum operation\n",
    "def weighted_sum(values,weights):\n",
    "    \n",
    "    w_sum = (values*weights).sum()/weights.sum()\n",
    "    return(w_sum)\n",
    "\n",
    "###\n",
    "\n",
    "#Save unique novo_question_id values into \"novo_question_id\" dataframe\n",
    "novo_question_id = subjets_questions_rates.novo_question_id.unique()\n",
    "\n",
    "#Pass it as an array\n",
    "novo_question_id_array  = np.asanyarray(subjets_questions_rates.novo_question_id)\n",
    "\n",
    "#Pass \"subjets_questions_rates\" as an array\n",
    "rate_array  = np.asanyarray(subjets_questions_rates.rate)\n",
    "\n",
    "#number_cases_array is the wheigth for each rate\n",
    "number_cases_array  = np.asanyarray(subjets_questions_rates.number_cases)\n",
    "\n",
    "#question_rates contains the weighted_rate for each question_id\n",
    "question_rates = []\n",
    "\n",
    "for i in novo_question_id:\n",
    "    \n",
    "    slice_ = novo_question_id_array == i\n",
    "    values = rate_array[slice_]\n",
    "    weights = number_cases_array[slice_]\n",
    "\n",
    "    question_rates.append([i,weighted_sum(values,weights)])\n",
    "                 \n",
    "question_rates = pd.DataFrame(question_rates,columns = ['novo_question_id','targ_prop_question_id'])\n",
    "\n",
    "#Merge the rates and data\n",
    "data = data.merge(question_rates, how = 'left', on = 'novo_question_id')\n",
    "\n",
    "data['targ_prop_question_id'] = data['targ_prop_question_id'].fillna(data['targ_prop_question_id'].mean())"
   ]
  },
  {
   "cell_type": "code",
   "execution_count": 9,
   "id": "3a689d55-c2c5-478c-bde6-af3e1029cab8",
   "metadata": {},
   "outputs": [],
   "source": [
    "#Convert string columns as an object\n",
    "data = data.convert_dtypes()\n",
    "data[data.columns[data.dtypes == 'string']]=data[data.columns[data.dtypes == 'string']].astype('object')"
   ]
  },
  {
   "cell_type": "markdown",
   "id": "e2449c6f",
   "metadata": {},
   "source": [
    "### target_cum_mean\n",
    "\n",
    "Is the cumulate passing average at each time step for each student"
   ]
  },
  {
   "cell_type": "code",
   "execution_count": 10,
   "id": "87b4aeb7",
   "metadata": {},
   "outputs": [
    {
     "data": {
      "text/plain": [
       "0          0.0\n",
       "1          0.0\n",
       "2     0.333333\n",
       "3         0.25\n",
       "4          0.4\n",
       "        ...   \n",
       "94    0.568421\n",
       "95      0.5625\n",
       "96    0.556701\n",
       "97     0.55102\n",
       "98    0.545455\n",
       "Name: acertou, Length: 99, dtype: object"
      ]
     },
     "execution_count": 10,
     "metadata": {},
     "output_type": "execute_result"
    }
   ],
   "source": [
    "data.acertou[0*100:0*100+99].cumsum()/np.arange(1,100)"
   ]
  },
  {
   "cell_type": "code",
   "execution_count": 11,
   "id": "276a6bc7-55df-4cab-99ad-763e357f5057",
   "metadata": {},
   "outputs": [],
   "source": [
    "target_cum_mean = []\n",
    "\n",
    "for i in range(0,20000):\n",
    "    \n",
    "    cum_mean = data.acertou[i*100:i*100+99].cumsum()/np.arange(1,100)\n",
    "    target_cum_mean.append([0]+list(cum_mean))\n",
    "    \n",
    "target_cum_mean = np.array(target_cum_mean).reshape(-1,1).ravel()\n",
    "\n",
    "#Adding of the cumulate passing average to the dataset\n",
    "data['target_cum_mean'] = target_cum_mean"
   ]
  },
  {
   "cell_type": "markdown",
   "id": "1136855e",
   "metadata": {},
   "source": [
    "### mean_target\n",
    "\n",
    "Is the passing average for each student"
   ]
  },
  {
   "cell_type": "code",
   "execution_count": 12,
   "id": "a5de7023-0504-45dd-a496-68042333c066",
   "metadata": {},
   "outputs": [],
   "source": [
    "mean_target=  pd.concat([data,pd.Series(np.repeat(range(20000),99),name = 'student')], axis = 1).groupby('student').mean()['acertou'].values\n",
    "\n",
    "#Adding of the passing average to the dataset\n",
    "data['mean_target'] = np.repeat(mean_target,100)\n",
    "\n"
   ]
  },
  {
   "cell_type": "markdown",
   "id": "c7b2503f",
   "metadata": {},
   "source": [
    "### lag\n",
    "\n",
    "Is the probability of failing given n time steps for each student"
   ]
  },
  {
   "cell_type": "code",
   "execution_count": 13,
   "id": "963870de-db68-40a4-b35b-aa9437babce1",
   "metadata": {},
   "outputs": [],
   "source": [
    "lag = []\n",
    "\n",
    "for student in range(0,20000):\n",
    "    target_student = data.acertou[(student*100):99+(student*100)].values\n",
    "    \n",
    "    lag.append(0)\n",
    "\n",
    "    for i in range(1,100):\n",
    "        j = i\n",
    "        while target_student[j-1] != 1:\n",
    "            j = j-1\n",
    "            if j == 0:\n",
    "                break\n",
    "        \n",
    "        lag.append(i-j+1)\n",
    "\n",
    "lag = np.array(lag)\n",
    "\n",
    "data['lag'] = lag"
   ]
  },
  {
   "cell_type": "code",
   "execution_count": 14,
   "id": "3b494c51",
   "metadata": {},
   "outputs": [],
   "source": [
    "lag_student_number = pd.concat([pd.Series(data.acertou, name = 'lag_student_av', index = data.index),\n",
    "                              data.novo_user_id,\n",
    "                              pd.Series(lag, name='lag', index = data.index)],\n",
    "                             axis = 1).groupby(['novo_user_id','lag']).sum()\n",
    "\n",
    "student_pass = pd.concat([pd.Series(data.acertou, name = 'lag_student_av', index = data.index),\n",
    "                          data.novo_user_id],\n",
    "                         axis = 1).groupby('novo_user_id').sum()\n",
    "\n",
    "lag_student_rate = lag_student_number / student_pass\n",
    "\n",
    "data = data.join(lag_student_rate, on =['novo_user_id', 'lag'])\n",
    "\n",
    "data['lag_student_av'] = data['lag_student_av'].fillna(data['lag_student_av'].mean())"
   ]
  },
  {
   "cell_type": "code",
   "execution_count": 15,
   "id": "aaa3735a",
   "metadata": {},
   "outputs": [],
   "source": [
    "\n",
    "data = data[data.columns[~((data.isna().sum()/data.shape[0]) > 0.1)]]"
   ]
  },
  {
   "cell_type": "markdown",
   "id": "af55cd3c",
   "metadata": {},
   "source": [
    "### Classes\n",
    "\n",
    "Classes are created to transform both training and testing dataset "
   ]
  },
  {
   "cell_type": "code",
   "execution_count": 16,
   "id": "8ac00918-9c29-4ef7-887e-2ea607c2186a",
   "metadata": {
    "tags": []
   },
   "outputs": [],
   "source": [
    "from sklearn.base import BaseEstimator, TransformerMixin\n",
    "\n",
    "# Remove_columns_na: Remove columns that contains more than 15% of missing values\n",
    "class Remove_columns_na(BaseEstimator,TransformerMixin):\n",
    "\n",
    "    def __init__(self):\n",
    "        return None\n",
    "    \n",
    "    def fit(self,X,y = None):\n",
    "        \n",
    "        self.col_to_drop = X.columns[X.isna().sum()/len(X)>0.15]\n",
    "        \n",
    "        return self\n",
    "        \n",
    "        \n",
    "    def transform(self,X,y = None):\n",
    "        \n",
    "        X = X.drop(self.col_to_drop,axis = 1)\n",
    "        \n",
    "        return X\n",
    "    \n",
    "    \n",
    " ###Frequency: Categorical columns are replaced as the frequency rate of their values. The frequency rate are between 0 and 1\n",
    "class Frequency(BaseEstimator, TransformerMixin):\n",
    "    \n",
    "    def __init__(self):\n",
    "        return None\n",
    "        \n",
    "    def fit(self,X,y = None):\n",
    "\n",
    "        return self\n",
    "        \n",
    "    def transform(self, X, y=None):\n",
    "        \n",
    "        self.features = [c for c in X.columns[((X.dtypes == 'object') | (X.dtypes == 'Int64')) & (X.columns != 'acertou')& (X.columns != 'novo_user_id')]]\n",
    "\n",
    "        for i in self.features:\n",
    "            \n",
    "            freq = X.groupby(i).size()/X[i].notnull().sum()\n",
    "            max_ = (X.groupby(i).size()/X[i].notnull().sum()).max()\n",
    "            \n",
    "            X['freq_{k}'.format(k=i)] = X[i].map(freq).fillna(max_)\n",
    "                        \n",
    "        return X\n",
    "    \n",
    "    \n",
    "### Target_Prop: Is the passing rate for each of each category in categorical columns\n",
    "class Pass_Rate(BaseEstimator, TransformerMixin):\n",
    "    \n",
    "    def __init__(self):\n",
    "        return None\n",
    "        \n",
    "    def fit(self,X,y = None):\n",
    "        \n",
    "        \n",
    "        return self\n",
    "        \n",
    "    def transform(self, X, y=None):\n",
    "        \n",
    "        self.features = [c for c in X.columns[((X.dtypes == 'object') | (X.dtypes == 'Int64')) & (X.columns != 'acertou')]]\n",
    "        \n",
    "        pass_prop = pd.DataFrame(dtype=float)\n",
    "    \n",
    "        for i in self.features:\n",
    "\n",
    "            prop = pd.Series(X.groupby(i)['acertou'].sum()/X.groupby(i).count()['acertou'])\n",
    "\n",
    "            X['pass_rate_{k}'.format(k=i)] = X[i].map(prop).fillna(prop.max())\n",
    "\n",
    "            \n",
    "        return X\n",
    "\n",
    "### Weighted_Average: Multiply the frequency and pass rate for each class in each column\n",
    "class Weighted_Average(BaseEstimator, TransformerMixin):\n",
    "    \n",
    "    def __init__(self):\n",
    "        return None\n",
    "        \n",
    "    def fit(self,X,y = None):\n",
    "        self.features = [c for c in X.columns[((X.dtypes == 'object') | (X.dtypes == 'Int64')) & (X.columns != 'acertou') & (X.columns != 'novo_user_id')]]\n",
    "                \n",
    "        return self\n",
    "        \n",
    "    def transform(self, X, y=None):\n",
    "\n",
    "        for i in self.features:\n",
    "\n",
    "            X['weighted_average_{k}'.format(k=i)] = X['pass_rate_{k}'.format(k=i)] * X['freq_{k}'.format(k=i)]\n",
    "                \n",
    "        return X\n",
    "\n",
    "    \n",
    " ###Grouping: The categorical columns are re-categorized into 4 groups with a similar pass rate, where group_a groups the categories with the highest pass rate and group_d the least.\n",
    "            # It's applied for each categorical column\n",
    "class Grouping(BaseEstimator, TransformerMixin):\n",
    "    \n",
    "    def __init__(self):\n",
    "        return None\n",
    "        \n",
    "    def fit(self,X,y = None):\n",
    "        self.features = [c for c in X.columns[((X.dtypes == 'object') | (X.dtypes == 'Int64')) & (X.columns != 'acertou')& (X.columns != 'novo_user_id')]]\n",
    "        \n",
    "        self.gruops_acum = pd.Series(dtype = float)\n",
    "        self.mask_acum = pd.Series(dtype = str)\n",
    "        \n",
    "        for i in self.features:\n",
    "            \n",
    "            mean_groups = X.groupby(i).mean()['acertou'].sort_values()            \n",
    "                \n",
    "            if len(mean_groups) == 2:\n",
    "                \n",
    "                gruops = pd.Series(['{k}_group_a'.format(k=i),'{k}_group_b'.format(k=i)], index = mean_groups.index)\n",
    "            else:\n",
    "                \n",
    "                gruops = pd.Series(np.where(mean_groups<=0.45,'{k}_group_a'.format(k=i),np.where(mean_groups.between(0.45,0.65), '{k}_group_b'.format(k=i),np.where(mean_groups.between(0.65,0.85),'{k}_group_c'.format(k=i), '{k}_group_d'.format(k=i))))) \n",
    "\n",
    "                gruops.index = mean_groups.index\n",
    "\n",
    "            self.gruops_acum = pd.concat([self.gruops_acum,gruops])\n",
    "            \n",
    "            mask = pd.Series((np.repeat(i,len(gruops))))\n",
    "            self.mask_acum = pd.concat([self.mask_acum,mask])\n",
    "        \n",
    "        return self\n",
    "        \n",
    "    def transform(self, X, y=None):\n",
    "\n",
    "        for i in self.features:\n",
    "            \n",
    "            column = X[i].map(self.gruops_acum[list(self.mask_acum == i)])\n",
    "            X = pd.concat([X,pd.get_dummies(column)], axis = 1)\n",
    "            \n",
    "        return X\n",
    "    \n",
    "###   Drop_Columns: Object or id columns are removed \n",
    "class Drop_Columns(BaseEstimator, TransformerMixin):\n",
    "    \n",
    "    def __init__(self):\n",
    "        return None\n",
    "        \n",
    "    def fit(self,X,y = None):\n",
    "        self.features = [c for c in X.columns[(X.dtypes == 'object') | (X.dtypes == 'Int64')]]\n",
    "        \n",
    "        return self\n",
    "        \n",
    "    def transform(self, X, y=None):\n",
    "\n",
    "        X = X.drop(self.features,axis = 1)\n",
    "                \n",
    "        return X\n",
    "\n",
    "####  Scaler: Min-Max scaler  \n",
    "class Scaler(BaseEstimator, TransformerMixin):\n",
    "        \n",
    "    def fit(self,X,y = None):\n",
    "        \n",
    "        self.max_col = []\n",
    "        self.min_col = []\n",
    "        self.max_col.append(X[X.columns[X.dtypes != 'object']].max(axis=0))\n",
    "        self.min_col.append(X[X.columns[X.dtypes != 'object']].min(axis=0))\n",
    "        \n",
    "        return self\n",
    "        \n",
    "    def transform(self, X, y=None):\n",
    "        \n",
    "        \n",
    "        j = 0\n",
    "        for c in X.columns[X.dtypes !='object']:\n",
    "            max_ = self.max_col[0][c]\n",
    "            min_ = self.min_col[0][c]\n",
    "            \n",
    "            X[c] = X[c].apply(lambda x :(x-min_)/(max_-min_))\n",
    "            j = j+1\n",
    "            \n",
    "        return X\n",
    "    "
   ]
  },
  {
   "cell_type": "code",
   "execution_count": 17,
   "id": "9888f689-bc76-43d3-9a05-aa74f36d414a",
   "metadata": {},
   "outputs": [],
   "source": [
    "from sklearn.pipeline import Pipeline\n",
    "\n",
    "pipe = Pipeline(steps=[\n",
    "    ('remove_columns', Remove_columns_na()),\n",
    "    ('frequency' , Frequency()),\n",
    "    ('pass_rate' , Pass_Rate()),\n",
    "    ('weighted_average' , Weighted_Average()),\n",
    "    ('grouping' ,Grouping()),\n",
    "    ('drop_col' , Drop_Columns()),\n",
    "    ('scaler' , Scaler())\n",
    "])\n",
    "\n",
    "#Transform the data through the pipeline\n",
    "data_preprocessed = pipe.fit(data).transform(data)"
   ]
  },
  {
   "cell_type": "code",
   "execution_count": 18,
   "id": "929bae4d",
   "metadata": {},
   "outputs": [
    {
     "name": "stdout",
     "output_type": "stream",
     "text": [
      "The dataframe contains now 148 columns\n"
     ]
    }
   ],
   "source": [
    "print(f'The dataframe contains now {len(data_preprocessed.columns)} columns')"
   ]
  },
  {
   "cell_type": "code",
   "execution_count": 19,
   "id": "a847faf1",
   "metadata": {},
   "outputs": [
    {
     "name": "stdout",
     "output_type": "stream",
     "text": [
      "Number of numerical columns after the processing: 148\n"
     ]
    }
   ],
   "source": [
    "print(f'Number of numerical columns after the processing: {(data_preprocessed.dtypes == \"float64\").sum()}')"
   ]
  },
  {
   "cell_type": "code",
   "execution_count": 20,
   "id": "518609f3-d548-4e91-b981-7c1836c5b349",
   "metadata": {},
   "outputs": [
    {
     "name": "stdout",
     "output_type": "stream",
     "text": [
      "Number of missing values after the processing: 0\n"
     ]
    }
   ],
   "source": [
    "print(f'Number of missing values after the processing: {data_preprocessed.isna().sum().sum()}')"
   ]
  },
  {
   "cell_type": "code",
   "execution_count": 21,
   "id": "1d5a6c0a-639f-44d0-a6e4-6d6841fe990c",
   "metadata": {},
   "outputs": [
    {
     "data": {
      "text/html": [
       "<div>\n",
       "<style scoped>\n",
       "    .dataframe tbody tr th:only-of-type {\n",
       "        vertical-align: middle;\n",
       "    }\n",
       "\n",
       "    .dataframe tbody tr th {\n",
       "        vertical-align: top;\n",
       "    }\n",
       "\n",
       "    .dataframe thead th {\n",
       "        text-align: right;\n",
       "    }\n",
       "</style>\n",
       "<table border=\"1\" class=\"dataframe\">\n",
       "  <thead>\n",
       "    <tr style=\"text-align: right;\">\n",
       "      <th></th>\n",
       "      <th>targ_prop_question_id</th>\n",
       "      <th>target_cum_mean</th>\n",
       "      <th>mean_target</th>\n",
       "      <th>lag</th>\n",
       "      <th>lag_student_av</th>\n",
       "      <th>freq_city</th>\n",
       "      <th>freq_country</th>\n",
       "      <th>freq_device</th>\n",
       "      <th>freq_device_type</th>\n",
       "      <th>freq_os</th>\n",
       "      <th>...</th>\n",
       "      <th>publication_year_group_c</th>\n",
       "      <th>right_answer_group_a</th>\n",
       "      <th>right_answer_group_b</th>\n",
       "      <th>right_answer_group_c</th>\n",
       "      <th>scholarity_id_group_b</th>\n",
       "      <th>scholarity_id_group_c</th>\n",
       "      <th>novo_question_id_group_a</th>\n",
       "      <th>novo_question_id_group_b</th>\n",
       "      <th>novo_question_id_group_c</th>\n",
       "      <th>novo_question_id_group_d</th>\n",
       "    </tr>\n",
       "  </thead>\n",
       "  <tbody>\n",
       "    <tr>\n",
       "      <th>0</th>\n",
       "      <td>0.652704</td>\n",
       "      <td>0.000000</td>\n",
       "      <td>0.45679</td>\n",
       "      <td>0.000000</td>\n",
       "      <td>0.000000</td>\n",
       "      <td>0.669856</td>\n",
       "      <td>1.0</td>\n",
       "      <td>0.145678</td>\n",
       "      <td>0.002106</td>\n",
       "      <td>0.018848</td>\n",
       "      <td>...</td>\n",
       "      <td>0.0</td>\n",
       "      <td>0.0</td>\n",
       "      <td>1.0</td>\n",
       "      <td>0.0</td>\n",
       "      <td>0.0</td>\n",
       "      <td>1.0</td>\n",
       "      <td>0.0</td>\n",
       "      <td>0.0</td>\n",
       "      <td>1.0</td>\n",
       "      <td>0.0</td>\n",
       "    </tr>\n",
       "    <tr>\n",
       "      <th>1</th>\n",
       "      <td>0.652704</td>\n",
       "      <td>0.000000</td>\n",
       "      <td>0.45679</td>\n",
       "      <td>0.027027</td>\n",
       "      <td>0.238751</td>\n",
       "      <td>0.669856</td>\n",
       "      <td>1.0</td>\n",
       "      <td>0.145678</td>\n",
       "      <td>0.002106</td>\n",
       "      <td>0.018848</td>\n",
       "      <td>...</td>\n",
       "      <td>0.0</td>\n",
       "      <td>0.0</td>\n",
       "      <td>0.0</td>\n",
       "      <td>1.0</td>\n",
       "      <td>0.0</td>\n",
       "      <td>1.0</td>\n",
       "      <td>0.0</td>\n",
       "      <td>1.0</td>\n",
       "      <td>0.0</td>\n",
       "      <td>0.0</td>\n",
       "    </tr>\n",
       "    <tr>\n",
       "      <th>2</th>\n",
       "      <td>0.652704</td>\n",
       "      <td>0.000000</td>\n",
       "      <td>0.45679</td>\n",
       "      <td>0.040541</td>\n",
       "      <td>0.110193</td>\n",
       "      <td>0.669856</td>\n",
       "      <td>1.0</td>\n",
       "      <td>0.145678</td>\n",
       "      <td>0.002106</td>\n",
       "      <td>0.018848</td>\n",
       "      <td>...</td>\n",
       "      <td>0.0</td>\n",
       "      <td>0.0</td>\n",
       "      <td>1.0</td>\n",
       "      <td>0.0</td>\n",
       "      <td>0.0</td>\n",
       "      <td>1.0</td>\n",
       "      <td>0.0</td>\n",
       "      <td>1.0</td>\n",
       "      <td>0.0</td>\n",
       "      <td>0.0</td>\n",
       "    </tr>\n",
       "    <tr>\n",
       "      <th>3</th>\n",
       "      <td>0.652704</td>\n",
       "      <td>0.333333</td>\n",
       "      <td>0.45679</td>\n",
       "      <td>0.013514</td>\n",
       "      <td>0.569330</td>\n",
       "      <td>0.669856</td>\n",
       "      <td>1.0</td>\n",
       "      <td>0.145678</td>\n",
       "      <td>0.002106</td>\n",
       "      <td>0.018848</td>\n",
       "      <td>...</td>\n",
       "      <td>0.0</td>\n",
       "      <td>0.0</td>\n",
       "      <td>1.0</td>\n",
       "      <td>0.0</td>\n",
       "      <td>0.0</td>\n",
       "      <td>1.0</td>\n",
       "      <td>1.0</td>\n",
       "      <td>0.0</td>\n",
       "      <td>0.0</td>\n",
       "      <td>0.0</td>\n",
       "    </tr>\n",
       "    <tr>\n",
       "      <th>4</th>\n",
       "      <td>0.652704</td>\n",
       "      <td>0.250000</td>\n",
       "      <td>0.45679</td>\n",
       "      <td>0.027027</td>\n",
       "      <td>0.238751</td>\n",
       "      <td>0.669856</td>\n",
       "      <td>1.0</td>\n",
       "      <td>0.145678</td>\n",
       "      <td>0.002106</td>\n",
       "      <td>0.018848</td>\n",
       "      <td>...</td>\n",
       "      <td>0.0</td>\n",
       "      <td>0.0</td>\n",
       "      <td>0.0</td>\n",
       "      <td>1.0</td>\n",
       "      <td>0.0</td>\n",
       "      <td>1.0</td>\n",
       "      <td>0.0</td>\n",
       "      <td>0.0</td>\n",
       "      <td>1.0</td>\n",
       "      <td>0.0</td>\n",
       "    </tr>\n",
       "  </tbody>\n",
       "</table>\n",
       "<p>5 rows × 148 columns</p>\n",
       "</div>"
      ],
      "text/plain": [
       "   targ_prop_question_id  target_cum_mean  mean_target       lag  \\\n",
       "0               0.652704         0.000000      0.45679  0.000000   \n",
       "1               0.652704         0.000000      0.45679  0.027027   \n",
       "2               0.652704         0.000000      0.45679  0.040541   \n",
       "3               0.652704         0.333333      0.45679  0.013514   \n",
       "4               0.652704         0.250000      0.45679  0.027027   \n",
       "\n",
       "   lag_student_av  freq_city  freq_country  freq_device  freq_device_type  \\\n",
       "0        0.000000   0.669856           1.0     0.145678          0.002106   \n",
       "1        0.238751   0.669856           1.0     0.145678          0.002106   \n",
       "2        0.110193   0.669856           1.0     0.145678          0.002106   \n",
       "3        0.569330   0.669856           1.0     0.145678          0.002106   \n",
       "4        0.238751   0.669856           1.0     0.145678          0.002106   \n",
       "\n",
       "    freq_os  ...  publication_year_group_c  right_answer_group_a  \\\n",
       "0  0.018848  ...                       0.0                   0.0   \n",
       "1  0.018848  ...                       0.0                   0.0   \n",
       "2  0.018848  ...                       0.0                   0.0   \n",
       "3  0.018848  ...                       0.0                   0.0   \n",
       "4  0.018848  ...                       0.0                   0.0   \n",
       "\n",
       "   right_answer_group_b  right_answer_group_c  scholarity_id_group_b  \\\n",
       "0                   1.0                   0.0                    0.0   \n",
       "1                   0.0                   1.0                    0.0   \n",
       "2                   1.0                   0.0                    0.0   \n",
       "3                   1.0                   0.0                    0.0   \n",
       "4                   0.0                   1.0                    0.0   \n",
       "\n",
       "   scholarity_id_group_c  novo_question_id_group_a  novo_question_id_group_b  \\\n",
       "0                    1.0                       0.0                       0.0   \n",
       "1                    1.0                       0.0                       1.0   \n",
       "2                    1.0                       0.0                       1.0   \n",
       "3                    1.0                       1.0                       0.0   \n",
       "4                    1.0                       0.0                       0.0   \n",
       "\n",
       "   novo_question_id_group_c  novo_question_id_group_d  \n",
       "0                       1.0                       0.0  \n",
       "1                       0.0                       0.0  \n",
       "2                       0.0                       0.0  \n",
       "3                       0.0                       0.0  \n",
       "4                       1.0                       0.0  \n",
       "\n",
       "[5 rows x 148 columns]"
      ]
     },
     "execution_count": 21,
     "metadata": {},
     "output_type": "execute_result"
    }
   ],
   "source": [
    "data_preprocessed.head(5)"
   ]
  },
  {
   "cell_type": "markdown",
   "id": "438f8521",
   "metadata": {},
   "source": [
    "### Training and Testing partition"
   ]
  },
  {
   "cell_type": "code",
   "execution_count": 22,
   "id": "e44dbc59",
   "metadata": {},
   "outputs": [],
   "source": [
    "#The testing dataframe is the question number 100 for each student\n",
    "X_test_preprocessed = data_preprocessed[99::100].copy()\n",
    "\n",
    "#The testing dataframe is the question 1 to the 99, for each student\n",
    "X_train_preprocessed = data_preprocessed[~data_preprocessed.index.isin(X_test_preprocessed.index)].copy()\n",
    "\n",
    "y_test = data.acertou[99::100]\n",
    "y_train = data.acertou[~data.index.isin(X_test_preprocessed.index)]"
   ]
  },
  {
   "cell_type": "markdown",
   "id": "a94bbb5b",
   "metadata": {},
   "source": [
    "### LSTM windows\n",
    "\n",
    "The model requieres moving sliding windows of n timestep to learn the patterns"
   ]
  },
  {
   "cell_type": "code",
   "execution_count": 24,
   "id": "25e34288-55e1-41cb-9ed4-91099c28c3fd",
   "metadata": {},
   "outputs": [],
   "source": [
    "#Sliding window generator with 3 timestep. So the samples (t-2, t-1, t) will be used in each window to predict the value of Y at time \"n\"\n",
    "\n",
    "#Validation dataframe: The 80% of the data is used as training and 20% as validation. \n",
    "#This is, from timestep 1 to 73 is the training and from timestep 74 to 99 is the validation\n",
    "\n",
    "#sample_weight_seq: \n",
    "\n",
    "step_past = 3\n",
    "\n",
    "def generate_data(X, y, sequence_length = 99, step_past = step_past, step_future = 0, students = 20000):\n",
    "    \n",
    "    X = X.to_numpy()\n",
    "    y = y.to_numpy()\n",
    "\n",
    "    train_index = np.round((sequence_length - step_past - step_future)*0.8)\n",
    "    \n",
    "    X_train, X_val, sample_weight_train, y_train, y_val = [],[],[],[],[]\n",
    "\n",
    "    for student in range(0,students):\n",
    "        \n",
    "        slice_start = student*99\n",
    "        slice_end = student*99+99\n",
    "        \n",
    "        for start in range(0, sequence_length-step_past-step_future+1):\n",
    "            \n",
    "            end = start + step_past\n",
    "            \n",
    "            if start <= train_index:\n",
    "                X_train.append(X[slice_start:slice_end][start:end])\n",
    "                y_train.append(y[slice_start:slice_end][end+step_future-1])\n",
    "            \n",
    "            else:\n",
    "                \n",
    "                X_val.append(X[slice_start:slice_end][start:end])\n",
    "                y_val.append(y[slice_start:slice_end][end+step_future-1])\n",
    "    \n",
    "    return np.array(X_train), np.array(y_train),np.array(sample_weight_train) , np.array(X_val),np.array(y_val)\n",
    "\n",
    "X_train_seq, y_train_seq,sample_weight_seq ,X_val_seq, y_val_seq= generate_data(X_train_preprocessed, y_train)\n",
    "\n"
   ]
  },
  {
   "cell_type": "code",
   "execution_count": 25,
   "id": "7a3a634b-a147-4a4e-9ef6-bd784f197c5b",
   "metadata": {},
   "outputs": [
    {
     "data": {
      "text/plain": [
       "((1560000, 3, 148), (1560000,), (380000, 3, 148), (380000,))"
      ]
     },
     "execution_count": 25,
     "metadata": {},
     "output_type": "execute_result"
    }
   ],
   "source": [
    "#training and validation shapes\n",
    "X_train_seq.shape, y_train_seq.shape, X_val_seq.shape, y_val_seq.shape"
   ]
  },
  {
   "cell_type": "code",
   "execution_count": 26,
   "id": "ffde5a6c-4215-4391-9caf-87d2559e388c",
   "metadata": {},
   "outputs": [],
   "source": [
    "#For the testing dataframe is necessary to aggregate the values X98, X99, X100 to predict to Y100\n",
    "X_past = pd.DataFrame(dtype=float)\n",
    "\n",
    "for i in np.arange(step_past-1,0,-1):\n",
    "    \n",
    "    X_slice = X_train_preprocessed[99-i::99]\n",
    "    \n",
    "    X_past = pd.concat([X_past,X_slice], axis = 0)\n",
    "    \n",
    "X_test_preprocessed_final = pd.concat([X_past,X_test_preprocessed], axis = 0)\n",
    "\n",
    "student = list(np.arange(1,20000+1))*(step_past)\n",
    "t = np.repeat(np.arange(99-step_past+1,99+1,1),20000)\n",
    "\n",
    "X_test_preprocessed_final = X_test_preprocessed_final.assign(student = student, t = t).sort_values(['student','t'])\n",
    "X_test_preprocessed_final = X_test_preprocessed_final.drop(['t','student'], axis = 1)\n",
    "\n",
    "X_test_preprocessed_final[X_test_preprocessed_final.isna()] = 0"
   ]
  },
  {
   "cell_type": "code",
   "execution_count": 27,
   "id": "c739037a-fe7b-468b-8db6-7091716dd660",
   "metadata": {},
   "outputs": [],
   "source": [
    "#Windows generation for testing dataframe\n",
    "def generate_data(X,t, students = 20000):\n",
    "\n",
    "    X_test= []\n",
    "\n",
    "    X = X\n",
    "    \n",
    "    for student in range(0,students*t,t):\n",
    "        \n",
    "        slice_start = student\n",
    "        slice_end = student+t\n",
    "        \n",
    "        X_test.append(X[slice_start:slice_end])\n",
    "\n",
    "    \n",
    "    return np.array(X_test)\n",
    "\n",
    "X_test_seq = generate_data(X_test_preprocessed_final,step_past)"
   ]
  },
  {
   "cell_type": "code",
   "execution_count": 28,
   "id": "40a03e8e-2cec-489c-8c30-bed73230bc26",
   "metadata": {},
   "outputs": [
    {
     "data": {
      "text/plain": [
       "(20000,)"
      ]
     },
     "execution_count": 28,
     "metadata": {},
     "output_type": "execute_result"
    }
   ],
   "source": [
    "#Test shape\n",
    "y_test.shape"
   ]
  },
  {
   "cell_type": "code",
   "execution_count": 29,
   "id": "3efdec6b-62a3-4e96-917b-4d440104b72d",
   "metadata": {},
   "outputs": [],
   "source": [
    "#Time Series Metrics\n",
    "\n",
    "#Training+Validation length \n",
    "sequence_length = 99 #steps\n",
    "\n",
    "#Future steps to predict\n",
    "step_future = 0\n",
    "\n",
    "#Training length\n",
    "train_lenght = np.round((sequence_length - step_past - step_future)*0.8).astype(int)"
   ]
  },
  {
   "cell_type": "code",
   "execution_count": 30,
   "id": "558fb193-0275-43c8-bd35-cebe2a30113a",
   "metadata": {
    "tags": []
   },
   "outputs": [
    {
     "name": "stderr",
     "output_type": "stream",
     "text": [
      "2023-01-19 15:42:46.385754: I tensorflow/core/platform/cpu_feature_guard.cc:193] This TensorFlow binary is optimized with oneAPI Deep Neural Network Library (oneDNN) to use the following CPU instructions in performance-critical operations:  AVX2 AVX512F AVX512_VNNI FMA\n",
      "To enable them in other operations, rebuild TensorFlow with the appropriate compiler flags.\n",
      "2023-01-19 15:42:54.496932: I tensorflow/core/platform/cpu_feature_guard.cc:193] This TensorFlow binary is optimized with oneAPI Deep Neural Network Library (oneDNN) to use the following CPU instructions in performance-critical operations:  AVX2 AVX512F AVX512_VNNI FMA\n",
      "To enable them in other operations, rebuild TensorFlow with the appropriate compiler flags.\n"
     ]
    },
    {
     "name": "stdout",
     "output_type": "stream",
     "text": [
      "Epoch 1/20\n",
      "2000/2000 [==============================] - 34s 16ms/step - loss: 0.4397 - precision: 0.7956 - recall: 0.8804 - val_loss: 0.4140 - val_precision: 0.8240 - val_recall: 0.8667\n",
      "Epoch 2/20\n",
      "2000/2000 [==============================] - 26s 13ms/step - loss: 0.4227 - precision: 0.8054 - recall: 0.8816 - val_loss: 0.4085 - val_precision: 0.8138 - val_recall: 0.8905\n",
      "Epoch 3/20\n",
      "2000/2000 [==============================] - 26s 13ms/step - loss: 0.4174 - precision: 0.8096 - recall: 0.8817 - val_loss: 0.4054 - val_precision: 0.8341 - val_recall: 0.8639\n",
      "Epoch 4/20\n",
      "2000/2000 [==============================] - 26s 13ms/step - loss: 0.4129 - precision: 0.8152 - recall: 0.8788 - val_loss: 0.3992 - val_precision: 0.8287 - val_recall: 0.8785\n",
      "Epoch 5/20\n",
      "2000/2000 [==============================] - 28s 14ms/step - loss: 0.4085 - precision: 0.8180 - recall: 0.8783 - val_loss: 0.4006 - val_precision: 0.8239 - val_recall: 0.8860\n",
      "Epoch 6/20\n",
      "2000/2000 [==============================] - 31s 15ms/step - loss: 0.4064 - precision: 0.8194 - recall: 0.8785 - val_loss: 0.3957 - val_precision: 0.8231 - val_recall: 0.8903\n",
      "Epoch 7/20\n",
      "2000/2000 [==============================] - 28s 14ms/step - loss: 0.4039 - precision: 0.8212 - recall: 0.8774 - val_loss: 0.3925 - val_precision: 0.8262 - val_recall: 0.8874\n",
      "Epoch 8/20\n",
      "2000/2000 [==============================] - 27s 14ms/step - loss: 0.4023 - precision: 0.8225 - recall: 0.8772 - val_loss: 0.3980 - val_precision: 0.8557 - val_recall: 0.8390\n",
      "Epoch 9/20\n",
      "2000/2000 [==============================] - 29s 15ms/step - loss: 0.4009 - precision: 0.8234 - recall: 0.8772 - val_loss: 0.3938 - val_precision: 0.8487 - val_recall: 0.8525\n",
      "Epoch 10/20\n",
      "2000/2000 [==============================] - 29s 14ms/step - loss: 0.3993 - precision: 0.8235 - recall: 0.8789 - val_loss: 0.3932 - val_precision: 0.8262 - val_recall: 0.8912\n",
      "Epoch 11/20\n",
      "2000/2000 [==============================] - 28s 14ms/step - loss: 0.3982 - precision: 0.8244 - recall: 0.8790 - val_loss: 0.3884 - val_precision: 0.8414 - val_recall: 0.8686\n",
      "Epoch 12/20\n",
      "2000/2000 [==============================] - 29s 14ms/step - loss: 0.3969 - precision: 0.8247 - recall: 0.8797 - val_loss: 0.3889 - val_precision: 0.8398 - val_recall: 0.8699\n",
      "Epoch 13/20\n",
      "2000/2000 [==============================] - 30s 15ms/step - loss: 0.3960 - precision: 0.8254 - recall: 0.8797 - val_loss: 0.3856 - val_precision: 0.8337 - val_recall: 0.8835\n",
      "Epoch 14/20\n",
      "2000/2000 [==============================] - 30s 15ms/step - loss: 0.3951 - precision: 0.8257 - recall: 0.8804 - val_loss: 0.3882 - val_precision: 0.8479 - val_recall: 0.8598\n",
      "Epoch 15/20\n",
      "2000/2000 [==============================] - 30s 15ms/step - loss: 0.3940 - precision: 0.8259 - recall: 0.8808 - val_loss: 0.3834 - val_precision: 0.8359 - val_recall: 0.8837\n",
      "Epoch 16/20\n",
      "2000/2000 [==============================] - 30s 15ms/step - loss: 0.3932 - precision: 0.8264 - recall: 0.8810 - val_loss: 0.3857 - val_precision: 0.8393 - val_recall: 0.8746\n",
      "Epoch 17/20\n",
      "2000/2000 [==============================] - 30s 15ms/step - loss: 0.3923 - precision: 0.8269 - recall: 0.8809 - val_loss: 0.3826 - val_precision: 0.8381 - val_recall: 0.8806\n",
      "Epoch 18/20\n",
      "2000/2000 [==============================] - 30s 15ms/step - loss: 0.3916 - precision: 0.8269 - recall: 0.8818 - val_loss: 0.3855 - val_precision: 0.8183 - val_recall: 0.9095\n",
      "Epoch 19/20\n",
      "2000/2000 [==============================] - 30s 15ms/step - loss: 0.3905 - precision: 0.8278 - recall: 0.8813 - val_loss: 0.3807 - val_precision: 0.8341 - val_recall: 0.8880\n",
      "Epoch 20/20\n",
      "2000/2000 [==============================] - 30s 15ms/step - loss: 0.3899 - precision: 0.8276 - recall: 0.8827 - val_loss: 0.3853 - val_precision: 0.8473 - val_recall: 0.8647\n"
     ]
    },
    {
     "data": {
      "text/plain": [
       "<keras.callbacks.History at 0x7fe78a777fa0>"
      ]
     },
     "execution_count": 30,
     "metadata": {},
     "output_type": "execute_result"
    }
   ],
   "source": [
    "#Each batch include 10 students\n",
    "batch = (train_lenght+1)*10\n",
    "\n",
    "#Number of columns\n",
    "ncol = X_train_seq.shape[2]\n",
    "\n",
    "#Window length\n",
    "time = X_train_seq.shape[1]\n",
    "\n",
    "from keras.models import Sequential\n",
    "from keras.layers import Dense\n",
    "from keras.layers import LSTM\n",
    "\n",
    "import keras as kr\n",
    "\n",
    "#Model\n",
    "model = Sequential()\n",
    "model.add(LSTM(50, activation ='relu', input_shape = (time, ncol)))\n",
    "model.add(Dense(units = ncol,activation='relu'))\n",
    "model.add(Dense(units = round(ncol/2,0),activation='relu'))\n",
    "model.add(Dense(units = round(ncol/8,0),activation='relu'))\n",
    "model.add(Dense(units = round(ncol/16,0),activation='relu'))\n",
    "model.add(Dense(units = 1, activation=\"sigmoid\"))\n",
    "\n",
    "model.compile(loss=\"binary_crossentropy\"\n",
    "              , metrics = [kr.metrics.Precision(),kr.metrics.Recall()]\n",
    "              , optimizer = kr.optimizers.Adam())\n",
    "\n",
    "model.fit(X_train_seq, (y_train_seq), epochs=20, \n",
    "          batch_size=batch,\n",
    "          validation_data=(X_val_seq, y_val_seq),\n",
    "          verbose=1)"
   ]
  },
  {
   "cell_type": "code",
   "execution_count": 31,
   "id": "d7d1ff07-07ba-447d-8fb5-55cb979b1af7",
   "metadata": {},
   "outputs": [
    {
     "name": "stdout",
     "output_type": "stream",
     "text": [
      "Model: \"sequential\"\n",
      "_________________________________________________________________\n",
      " Layer (type)                Output Shape              Param #   \n",
      "=================================================================\n",
      " lstm (LSTM)                 (None, 50)                39800     \n",
      "                                                                 \n",
      " dense (Dense)               (None, 148)               7548      \n",
      "                                                                 \n",
      " dense_1 (Dense)             (None, 74)                11026     \n",
      "                                                                 \n",
      " dense_2 (Dense)             (None, 18)                1350      \n",
      "                                                                 \n",
      " dense_3 (Dense)             (None, 9)                 171       \n",
      "                                                                 \n",
      " dense_4 (Dense)             (None, 1)                 10        \n",
      "                                                                 \n",
      "=================================================================\n",
      "Total params: 59,905\n",
      "Trainable params: 59,905\n",
      "Non-trainable params: 0\n",
      "_________________________________________________________________\n"
     ]
    }
   ],
   "source": [
    "#Model summary\n",
    "model.summary()"
   ]
  },
  {
   "cell_type": "code",
   "execution_count": 32,
   "id": "af8484c5",
   "metadata": {},
   "outputs": [
    {
     "data": {
      "text/plain": [
       "<AxesSubplot:>"
      ]
     },
     "execution_count": 32,
     "metadata": {},
     "output_type": "execute_result"
    },
    {
     "data": {
      "image/png": "[encoded data removed]",
      "text/plain": [
       "<Figure size 640x480 with 1 Axes>"
      ]
     },
     "metadata": {},
     "output_type": "display_data"
    }
   ],
   "source": [
    "#Loss and Metric visualization\n",
    "pd.DataFrame(model.history.history).plot()"
   ]
  },
  {
   "cell_type": "code",
   "execution_count": 33,
   "id": "728f0e2b-acca-43d2-a8c3-afafa57a2c81",
   "metadata": {
    "tags": []
   },
   "outputs": [
    {
     "name": "stdout",
     "output_type": "stream",
     "text": [
      "48750/48750 [==============================] - 61s 1ms/step\n",
      "F1 score for training: 85.2%\n"
     ]
    },
    {
     "data": {
      "image/png": "[encoded data removed]",
      "text/plain": [
       "<Figure size 400x200 with 2 Axes>"
      ]
     },
     "metadata": {},
     "output_type": "display_data"
    }
   ],
   "source": [
    "#Training predictions\n",
    "train_prediction = model.predict(X_train_seq)\n",
    "train_prediction = np.where(train_prediction.ravel()>0.5,1,0)\n",
    "\n",
    "from sklearn.metrics import classification_report,confusion_matrix\n",
    "\n",
    "#Training Confusion Matrix\n",
    "train_confusion_matrix = confusion_matrix(list(y_train_seq),train_prediction)\n",
    "\n",
    "import seaborn as sns\n",
    "import matplotlib.pyplot as plt\n",
    "\n",
    "#Confusion Matrix plot\n",
    "plt.figure(figsize = (4,2))\n",
    "sns.heatmap(train_confusion_matrix/np.sum(train_confusion_matrix), annot=True, fmt='.2%', cmap='Blues')\n",
    "\n",
    "from sklearn.metrics import f1_score\n",
    "print(f'F1 score for training: {round(f1_score(list(y_train_seq),train_prediction),3)*100}%')"
   ]
  },
  {
   "cell_type": "code",
   "execution_count": 34,
   "id": "5e0b51f9-5a97-4823-a370-0d904bf59cd6",
   "metadata": {},
   "outputs": [
    {
     "name": "stdout",
     "output_type": "stream",
     "text": [
      "11875/11875 [==============================] - 15s 1ms/step\n",
      "F1 score for Validation: 85.6%\n"
     ]
    },
    {
     "data": {
      "image/png": "[encoded data removed]",
      "text/plain": [
       "<Figure size 400x200 with 2 Axes>"
      ]
     },
     "metadata": {},
     "output_type": "display_data"
    }
   ],
   "source": [
    "#Validation predictions\n",
    "val_prediction = model.predict(X_val_seq)\n",
    "val_prediction = np.where(val_prediction.ravel()>0.5,1,0)\n",
    "\n",
    "#Validation Confusion Matrix\n",
    "val_confusion_matrix = confusion_matrix(list(y_val_seq),val_prediction)\n",
    "\n",
    "#Confusion Matrix plot\n",
    "plt.figure(figsize = (4,2))\n",
    "sns.heatmap(val_confusion_matrix/np.sum(val_confusion_matrix), annot=True, fmt='.2%', cmap='Blues')\n",
    "\n",
    "print(f'F1 score for Validation: {round(f1_score(list(y_val_seq),val_prediction),3)*100}%')"
   ]
  },
  {
   "cell_type": "code",
   "execution_count": 35,
   "id": "715fc220",
   "metadata": {},
   "outputs": [
    {
     "name": "stdout",
     "output_type": "stream",
     "text": [
      "625/625 [==============================] - 1s 1ms/step\n",
      "F1 score for Test: 85.8%\n"
     ]
    },
    {
     "data": {
      "image/png": "[encoded data removed]",
      "text/plain": [
       "<Figure size 400x200 with 2 Axes>"
      ]
     },
     "metadata": {},
     "output_type": "display_data"
    }
   ],
   "source": [
    "#Testing predictions\n",
    "test_prediction = model.predict(X_test_seq)\n",
    "test_prediction = np.where(test_prediction>0.5,1,0)\n",
    "\n",
    "#Testing Confusion Matrix\n",
    "test_confusion_matrix = confusion_matrix(list(y_test),test_prediction)\n",
    "\n",
    "#Confusion Matrix plot\n",
    "plt.figure(figsize = (4,2))\n",
    "sns.heatmap(test_confusion_matrix/np.sum(test_confusion_matrix), annot=True, fmt='.2%', cmap='Blues')\n",
    "\n",
    "print(f'F1 score for Test: {round(f1_score(list(y_test),test_prediction),3)*100}%')"
   ]
  },
  {
   "cell_type": "markdown",
   "id": "b4572a67",
   "metadata": {},
   "source": [
    "### Conclusion"
   ]
  },
  {
   "cell_type": "markdown",
   "id": "1d6c0277",
   "metadata": {},
   "source": [
    "An acceptable model has been found to predict if each student will pass the following question using recurrent neural networks (LSTM), considering the times t-2, t-1 and t to predict time t. Both in the training, validation and testing base, the F1 metric yields similar values, around 86%. It has started with a dataset made up of 32 columns (mostly string columns) to end up with 148 columns, after data preprocessing, feature engineering and data imputation."
   ]
  }
 ],
 "metadata": {
  "kernelspec": {
   "display_name": "Python 3 (ipykernel)",
   "language": "python",
   "name": "python3"
  },
  "language_info": {
   "codemirror_mode": {
    "name": "ipython",
    "version": 3
   },
   "file_extension": ".py",
   "mimetype": "text/x-python",
   "name": "python",
   "nbconvert_exporter": "python",
   "pygments_lexer": "ipython3",
   "version": "3.9.12"
  }
 },
 "nbformat": 4,
 "nbformat_minor": 5
}
